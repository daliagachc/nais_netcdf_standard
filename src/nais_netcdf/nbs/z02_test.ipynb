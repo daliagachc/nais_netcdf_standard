{
 "cells": [
  {
   "cell_type": "code",
   "execution_count": 2,
   "metadata": {
    "collapsed": true,
    "lines_to_next_cell": 2
   },
   "outputs": [],
   "source": [
    "# region imports\n",
    "from IPython import get_ipython\n",
    "\n",
    "# noinspection PyBroadException\n",
    "try:\n",
    "    _magic = get_ipython().run_line_magic\n",
    "    _magic(\"load_ext\", \"autoreload\")\n",
    "    _magic(\"autoreload\", \"2\")\n",
    "except:\n",
    "    pass\n",
    "\n",
    "# import datetime as dt\n",
    "# import glob\n",
    "import os\n",
    "# import pprint\n",
    "# import sys\n",
    "# import matplotlib as mpl\n",
    "# import matplotlib.colors\n",
    "import matplotlib.pyplot as plt\n",
    "# import numpy as np\n",
    "# import pandas as pd\n",
    "# import seaborn as sns\n",
    "import xarray as xr\n",
    "\n",
    "# import bnn_tools.bnn_array"
   ]
  },
  {
   "cell_type": "code",
   "execution_count": 3,
   "metadata": {
    "collapsed": false,
    "lines_to_next_cell": 2
   },
   "outputs": [],
   "source": [
    "import nais_netcdf\n",
    "import nais_netcdf.bnn_array\n",
    "import nais_netcdf.funs as fu\n",
    "import nais_netcdf.constants as co"
   ]
  },
  {
   "cell_type": "code",
   "execution_count": 4,
   "id": "dd12ab9e",
   "metadata": {},
   "outputs": [],
   "source": [
    "\n",
    "DP = co.DP\n",
    "\n",
    "DNDLDP = co.DNDLDP\n",
    "\n",
    "TIME = co.TIME\n",
    "\n",
    "FLAGS = co.FLAGS\n",
    "\n",
    "MODE = co.MODE\n",
    "\n",
    "POL_DIC = co.POL_DIC\n",
    "\n",
    "MODE_DIC = co.MODE_DIC\n",
    "P_ION = co.P_ION\n",
    "\n",
    "MODES = co.MODES\n",
    "\n",
    "META = co.META"
   ]
  },
  {
   "cell_type": "code",
   "execution_count": 5,
   "id": "226db13b",
   "metadata": {},
   "outputs": [],
   "source": [
    "# def main():\n",
    "    # pass"
   ]
  },
  {
   "cell_type": "code",
   "execution_count": 6,
   "metadata": {
    "collapsed": false
   },
   "outputs": [],
   "source": [
    "data_path_in = os.path.join(nais_netcdf.__path__[0], 'data_in')\n",
    "data_path_out = os.path.join(nais_netcdf.__path__[0], 'data_out')"
   ]
  },
  {
   "cell_type": "code",
   "execution_count": 7,
   "metadata": {
    "collapsed": false,
    "lines_to_next_cell": 2
   },
   "outputs": [],
   "source": [
    "log_dy = .025\n",
    "sec_resample = 300\n",
    "day = '20220720'\n",
    "\n",
    "ds_comb = fu.get_full_ds(data_path_in, day, log_dy, sec_resample)\n",
    "\n",
    "fu.save_ds2nc(ds_comb, data_path_out, day)"
   ]
  },
  {
   "cell_type": "code",
   "execution_count": 8,
   "metadata": {
    "collapsed": false
   },
   "outputs": [],
   "source": [
    "# this is what is inside get_full_ds\n",
    "\n",
    "flag_ds = fu.get_flag_id_ds(data_path_in, day)\n",
    "\n",
    "dss = []\n",
    "for mode in MODES:\n",
    "    dndldp_df = fu.get_mode_ds(\n",
    "        data_path_in, day, log_dy, mode, sec_resample)\n",
    "    dss.append(dndldp_df)\n",
    "\n",
    "ds_comb:xr.Dataset = (\n",
    "    xr.concat(dss, dim=MODE)\n",
    "    .pipe(lambda d: xr.merge([d,flag_ds]))\n",
    ")\n",
    "\n",
    "for k,v in META.items():\n",
    "    ds_comb[k] = ds_comb[k].assign_attrs(v)\n"
   ]
  },
  {
   "cell_type": "code",
   "execution_count": null,
   "metadata": {
    "collapsed": false,
    "lines_to_next_cell": 2
   },
   "outputs": [],
   "source": []
  },
  {
   "cell_type": "code",
   "execution_count": null,
   "metadata": {
    "collapsed": false
   },
   "outputs": [],
   "source": []
  }
 ],
 "metadata": {
  "jupytext": {
   "formats": "ipynb,py:percent"
  },
  "kernelspec": {
   "display_name": "Python [conda env:nais_netcdf_standard]",
   "language": "python",
   "name": "conda-env-nais_netcdf_standard-py"
  },
  "language_info": {
   "codemirror_mode": {
    "name": "ipython",
    "version": 2
   },
   "file_extension": ".py",
   "mimetype": "text/x-python",
   "name": "python",
   "nbconvert_exporter": "python",
   "pygments_lexer": "ipython2",
   "version": "2.7.6"
  }
 },
 "nbformat": 4,
 "nbformat_minor": 0
}
